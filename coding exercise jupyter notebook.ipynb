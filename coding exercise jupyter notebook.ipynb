{
 "cells": [
  {
   "cell_type": "markdown",
   "metadata": {},
   "source": [
    "# Coding Exercises\n",
    "\n",
    "These are some short pieces of code I've written as I work on solving some biology related problems with code in my python learning journey."
   ]
  },
  {
   "cell_type": "markdown",
   "metadata": {},
   "source": [
    "#### Counting DNA Nucleotides:\n",
    "**Parameters:**\n",
    "\n",
    "*dna* (string): string of dna nucleotides, expected to only contain ATCG\n",
    "    \n",
    "**Returns:**\n",
    "\n",
    "*count* (string): count of the number of each DNA nucleotide in A C G T order\n",
    "\n",
    "Raises ValueError \"Not valid nucleotide sequence for DNA\" if any other nucleotides or contents are present in the string"
   ]
  },
  {
   "cell_type": "code",
   "execution_count": null,
   "metadata": {},
   "outputs": [],
   "source": [
    "def count_nucleotides(dna):\n",
    "    nucleotides = [\"a\",\"c\",\"g\",\"t\"]\n",
    "    dna = dna.lower().strip()\n",
    "    for nucleotide in dna:\n",
    "        if nucleotide not in nucleotides:\n",
    "            raise ValueError(\"Not valid nucleotide sequence for DNA\")\n",
    "\n",
    "    a = dna.count(\"a\")\n",
    "    c = dna.count(\"c\")\n",
    "    g = dna.count(\"g\")\n",
    "    t = dna.count(\"t\")\n",
    "    count_string =f\"A: {a} C: {c} G: {g} T: {t}\"\n",
    "    return count_string"
   ]
  },
  {
   "cell_type": "markdown",
   "metadata": {},
   "source": [
    "#### Transcribing DNA to RNA\n",
    "**Parameters:**\n",
    "\n",
    "*dna* (string): string of dna nucleotides, expected to only contain ATCG\n",
    "    \n",
    "**Returns:**\n",
    "\n",
    "*rna* (string): the RNA version of the same dna nucleotide (Ts converted to Us)\n",
    "\n",
    "Raises ValueError \"Not valid nucleotide sequence for DNA\" if any other nucleotides or contents are present in the string"
   ]
  },
  {
   "cell_type": "code",
   "execution_count": null,
   "metadata": {},
   "outputs": [],
   "source": [
    "def transcribe_to_rna(dna):\n",
    "    nucleotides = [\"a\",\"c\",\"g\",\"t\"]\n",
    "    dna = dna.lower().strip()\n",
    "    for nucleotide in dna:\n",
    "        if nucleotide not in nucleotides:\n",
    "            raise ValueError(\"Not valid nucleotide sequence for DNA\")\n",
    "    rna = dna.replace(\"t\",\"u\")\n",
    "    return rna.upper()   "
   ]
  },
  {
   "cell_type": "markdown",
   "metadata": {},
   "source": [
    "#### Reverse Complementing DNA\n",
    "**Parameters:**\n",
    "\n",
    "*dna* (string): string of dna nucleotides, expected to only contain ATCG\n",
    "    \n",
    "**Returns:**\n",
    "\n",
    "*reverse_complement* (string): a reverse complement (reversed, then complemented) of the input dna strand\n",
    "\n",
    "Raises ValueError \"Not valid nucleotide sequence for DNA\" if any other nucleotides or contents are present in the string"
   ]
  },
  {
   "cell_type": "code",
   "execution_count": null,
   "metadata": {},
   "outputs": [],
   "source": [
    "def reverse_complement_dna(dna):\n",
    "    nucleotides = [\"a\",\"c\",\"g\",\"t\"]\n",
    "    dna = dna.lower().strip()\n",
    "    for nucleotide in dna:\n",
    "        if nucleotide not in nucleotides:\n",
    "            raise ValueError(\"Not valid nucleotide sequence for DNA\")   \n",
    "    \n",
    "    complement = {\"a\":\"t\", \"c\":\"g\", \"g\":\"c\", \"t\":\"a\",}\n",
    "    \n",
    "    reverse_complement = \"\"\n",
    "    for i in range(len(dna)-1,-1,-1):\n",
    "        reverse_complement += complement[dna[i]]\n",
    "    return reverse_complement.upper()\n"
   ]
  },
  {
   "cell_type": "markdown",
   "metadata": {},
   "source": [
    "#### Hamming Distance\n",
    "**Parameters:**\n",
    "\n",
    "*dna1* (string): first string of dna nucleotides, expected to only contain ATCG\n",
    "*dna2* (string): second string of dna nucleotides, expected to only contain ATCG\n",
    "\n",
    "dna1 and dna2 are expected to be of equal length\n",
    "    \n",
    "**Returns:**\n",
    "\n",
    "*Hamming Distance* (integer): number of point mutations between the two sequences\n",
    "\n",
    "Raises ValueError \"Not valid nucleotide sequence for DNA\" if any other nucleotides or contents are present in the string\n",
    "\n",
    "Raises ValueError \"DNA sequences are not the same length\" if input strings are of different lengths."
   ]
  },
  {
   "cell_type": "code",
   "execution_count": null,
   "metadata": {},
   "outputs": [],
   "source": [
    "def hamming(dna1,dna2):\n",
    "    nucleotides = [\"a\",\"c\",\"g\",\"t\"]\n",
    "    dna1 = dna1.lower().strip()\n",
    "    dna2 = dna2.lower().strip()\n",
    "    for nucleotide in dna1:\n",
    "        if nucleotide not in nucleotides:\n",
    "            raise ValueError(\"Not valid nucleotide sequence for DNA\")   \n",
    "    for nucleotide in dna2:\n",
    "        if nucleotide not in nucleotides:\n",
    "            raise ValueError(\"Not valid nucleotide sequence for DNA\") \n",
    "    if len(dna1) != len(dna2):\n",
    "        raise ValueError(\"DNA sequences are not the same length\")\n",
    "    else:\n",
    "        hamming_count = 0\n",
    "        for i in range(len(dna1)):\n",
    "            if dna1[i] == dna2[i]:\n",
    "                pass\n",
    "            else:\n",
    "                hamming_count += 1\n",
    "    return hamming_count\n",
    "\n"
   ]
  },
  {
   "cell_type": "markdown",
   "metadata": {},
   "source": [
    "#### Identifying Substrings in DNA\n",
    "**Parameters:**\n",
    "\n",
    "*dna1* (string): primary string of dna, which is searched for the substring; expected to only contain ACGT\n",
    "\n",
    "*dna2* (string): second string of dna nucleotides, expected to be a substring of the larger string; expected to only contain ACGT\n",
    "    \n",
    "**Returns:**\n",
    "\n",
    "*Indeces* (string): a string containing the starting position (using 1-based numbering, vs 0-based numbering of python) of each substring location within the primary dna sequence\n",
    "\n",
    "Raises ValueError \"Not valid nucleotide sequence for DNA\" if any other nucleotides or contents are present in the string\n",
    "\n",
    "Raises ValueError \"Substring is longer than primary string\" if the secondary string is longer than the primary"
   ]
  },
  {
   "cell_type": "code",
   "execution_count": null,
   "metadata": {},
   "outputs": [],
   "source": [
    "def motif_dna(dna1,dna2):\n",
    "    nucleotides = [\"a\",\"c\",\"g\",\"t\"]\n",
    "    dna1 = dna1.lower().strip()\n",
    "    dna2 = dna2.lower().strip()\n",
    "    for nucleotide in dna1:\n",
    "        if nucleotide not in nucleotides:\n",
    "            raise ValueError(\"Not valid nucleotide sequence for DNA\")   \n",
    "    for nucleotide in dna2:\n",
    "        if nucleotide not in nucleotides:\n",
    "            raise ValueError(\"Not valid nucleotide sequence for DNA\") \n",
    "    if len(dna1) < len(dna2):\n",
    "        raise ValueError(\"Substring is longer than primary string\")\n",
    "    else:\n",
    "        start = 0\n",
    "        indeces = []\n",
    "        index = 0\n",
    "        while index != -1:\n",
    "            index = dna1.find(dna2,start)\n",
    "            if index == -1:\n",
    "                return \" \".join(indeces)\n",
    "            else:\n",
    "                index += 1\n",
    "                indeces.append(str(index))\n",
    "                start = index "
   ]
  },
  {
   "cell_type": "markdown",
   "metadata": {},
   "source": [
    "#### Translating RNA into Protein\n",
    "**Parameters:**\n",
    "\n",
    "*rna* (string): string of rna sequence, expected to only contain ACGU\n",
    "    \n",
    "**Returns:**\n",
    "\n",
    "*protein* (string): a string representing the single-letter abbreviations of the proteins encoded by the input rna string\n",
    "\n",
    "Raises ValueError \"Not valid nucleotide sequence for RNA\" if any other nucleotides or contents are present in the string\n",
    "\n",
    "Raises ValueError \"No start codon\" if no start codon present.\n",
    "\n",
    "Will start only at a start codon (\"AUG\" - M) and end either at the end of the sequence, or a stop codon (\"UAG\",\"UAA\",\"UGA\")."
   ]
  },
  {
   "cell_type": "code",
   "execution_count": null,
   "metadata": {},
   "outputs": [],
   "source": [
    "import re\n",
    "\n",
    "def transcribe(rna):\n",
    "    stop_codons = [\"UAA\",\"UAG\",\"UGA\"]\n",
    "    codon_map = {\"UUU\":\"F\", \"UUC\": \"F\", \"UUA\":\"L\", \"UUG\":\"L\",\n",
    "        \"UCU\":\"S\", \"UCC\":\"S\",\"UCA\":\"S\",\"UCG\":\"S\",\n",
    "        \"UAU\":\"Y\", \"UAC\":\"Y\",\n",
    "        \"UGU\": \"C\", \"UGC\":\"C\", \"UGG\":\"W\",\n",
    "        \"CUU\":\"L\", \"CUC\":\"L\", \"CUA\":\"L\", \"CUG\":\"L\",\n",
    "        \"CCU\":\"P\", \"CCC\":\"P\", \"CCA\":\"P\", \"CCG\":\"P\",\n",
    "        \"CAU\":\"H\", \"CAC\":\"H\", \"CAA\":\"Q\", \"CAG\":\"Q\",\n",
    "        \"CGU\":\"R\", \"CGC\":\"R\", \"CGA\":\"R\", \"CGG\":\"R\",\n",
    "        \"AUU\":\"I\", \"AUC\":\"I\", \"AUA\":\"I\", \"AUG\":\"M\",\n",
    "        \"ACU\":\"T\", \"ACC\":\"T\", \"ACA\":\"T\", \"ACG\":\"T\",\n",
    "        \"AAU\":\"N\", \"AAC\":\"N\", \"AAA\":\"K\", \"AAG\":\"K\",\n",
    "        \"AGU\":\"S\", \"AGC\":\"S\", \"AGA\":\"R\", \"AGG\":\"R\",\n",
    "        \"GUU\":\"V\", \"GUC\":\"V\", \"GUA\":\"V\", \"GUG\":\"V\",\n",
    "        \"GCU\":\"A\", \"GCC\":\"A\", \"GCA\":\"A\", \"GCG\":\"A\",\n",
    "        \"GAU\":\"D\", \"GAC\":\"D\", \"GAA\":\"E\", \"GAG\":\"E\",\n",
    "        \"GGU\":\"G\", \"GGC\":\"G\", \"GGA\":\"G\", \"GGG\":\"G\",}\n",
    "\n",
    "    #search for start codon of AUG, and ignore anything before it\n",
    "    r = r'AUG(.+?)$'\n",
    "    try:\n",
    "        searched = re.search(r,rna)\n",
    "        coding = searched.group(1)\n",
    "        good = True\n",
    "    except:\n",
    "        raise ValueError(\"No start codon\")\n",
    "\n",
    "    #break into sets of three...\n",
    "    if good == True:\n",
    "        triples = [coding[i:i+3] for i in range(0,len(coding),3)]\n",
    "        triples.insert(0,\"AUG\")\n",
    "\n",
    "        #translates over triples and STOPS at a stop codon or end of code\n",
    "        polypeptide = []\n",
    "        for codon in triples:\n",
    "            if len(codon) == 3:\n",
    "                if codon in stop_codons:\n",
    "                    return \"\".join(polypeptide)\n",
    "                else:\n",
    "                    polypeptide.append(codon_map[codon])\n",
    "        return \"\".join(polypeptide)"
   ]
  }
 ],
 "metadata": {
  "kernelspec": {
   "display_name": "Python 3.9.12 ('base')",
   "language": "python",
   "name": "python3"
  },
  "language_info": {
   "name": "python",
   "version": "3.9.12"
  },
  "orig_nbformat": 4,
  "vscode": {
   "interpreter": {
    "hash": "6a439f0eaa243a44d823d34abb33f6ee0fcfc77308b61bafe556899364e1cc8a"
   }
  }
 },
 "nbformat": 4,
 "nbformat_minor": 2
}
